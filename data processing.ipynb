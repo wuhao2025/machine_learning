{
 "cells": [
  {
   "cell_type": "code",
   "execution_count": 37,
   "metadata": {},
   "outputs": [],
   "source": [
    "import pandas as pd\n",
    "import numpy as np\n",
    "import matplotlib.pyplot as plt\n",
    "\n",
    "from sklearn import preprocessing\n",
    "from sklearn.model_selection import TimeSeriesSplit\n",
    "from OU import OU\n",
    "import pickle\n",
    "import talib"
   ]
  },
  {
   "cell_type": "code",
   "execution_count": 38,
   "metadata": {},
   "outputs": [],
   "source": [
    "#loading data\n",
    "bitcoin_futures_df = pd.read_csv('/Users/answer/Desktop/paper/DATA/bitcoin_futures_df.csv')\n",
    "bitcoin_spot_df = pd.read_csv('/Users/answer/Desktop/paper/DATA/bitcoin_spot_df.csv')"
   ]
  },
  {
   "cell_type": "code",
   "execution_count": 39,
   "metadata": {},
   "outputs": [
    {
     "data": {
      "text/plain": [
       "(46790, 13)"
      ]
     },
     "execution_count": 39,
     "metadata": {},
     "output_type": "execute_result"
    }
   ],
   "source": [
    "bitcoin_futures_df.shape"
   ]
  },
  {
   "cell_type": "code",
   "execution_count": 40,
   "metadata": {},
   "outputs": [
    {
     "data": {
      "text/plain": [
       "(46790, 13)"
      ]
     },
     "execution_count": 40,
     "metadata": {},
     "output_type": "execute_result"
    }
   ],
   "source": [
    "bitcoin_spot_df.shape"
   ]
  },
  {
   "cell_type": "code",
   "execution_count": 41,
   "metadata": {},
   "outputs": [],
   "source": [
    "feature_window = 5"
   ]
  },
  {
   "cell_type": "code",
   "execution_count": 42,
   "metadata": {},
   "outputs": [],
   "source": [
    "#calculate EWMA index\n",
    "def sma(prices, window):\n",
    "    return prices.rolling(window).mean()[window:]"
   ]
  },
  {
   "cell_type": "code",
   "execution_count": 43,
   "metadata": {},
   "outputs": [],
   "source": [
    "#calculate EWMA index\n",
    "def ewma(prices, window):                   \n",
    "    return pd.Series.ewm(prices, span=window).mean()[window:]"
   ]
  },
  {
   "cell_type": "code",
   "execution_count": 44,
   "metadata": {},
   "outputs": [],
   "source": [
    "#calculate MFI index\n",
    "def mfi(df, window):\n",
    "    mf = (df['HIGH'] + df['LOW'] + df['CLOSE']) / 3\n",
    "    i = 0\n",
    "    pos_mf = [0]\n",
    "    neg_mf = [0]\n",
    "    \n",
    "    # Find Positive Money FLOWs and Negative Money FLOWs\n",
    "    while i < df.index[-1]:\n",
    "        if mf[i + 1] > mf[i]:\n",
    "            pos_mf.append(mf[i + 1] * df.loc[i + 1, 'VOLUME'])\n",
    "            neg_mf.append(0)\n",
    "        else:\n",
    "            pos_mf.append(0)\n",
    "            neg_mf.append(mf[i + 1] * df.loc[i + 1, 'VOLUME'])\n",
    "        i = i + 1\n",
    "        \n",
    "    pos_mf = pd.Series(pos_mf)\n",
    "    neg_mf = pd.Series(neg_mf)\n",
    "    \n",
    "    # Apply a cumulative sum over every window\n",
    "    pos_sum = pd.Series(pos_mf.rolling(window).sum())\n",
    "    neg_sum = pd.Series(neg_mf.rolling(window).sum())\n",
    "    \n",
    "    mfr = (window - pos_sum)/(window-neg_sum)\n",
    "    mfi = abs(100 - (100 / (1+mfr)))\n",
    "    \n",
    "    return mfi[window:]"
   ]
  },
  {
   "cell_type": "code",
   "execution_count": 45,
   "metadata": {},
   "outputs": [],
   "source": [
    "#calculate rsi index\n",
    "def rsi(df, window):\n",
    "    i = 0\n",
    "    pos_period = [0]\n",
    "    neg_period = [0]\n",
    "    \n",
    "    # Identify positive and negative closing periods\n",
    "    while i < df.index[-1]:\n",
    "        if df.at[i+1, 'CLOSE'] > df.at[i, 'CLOSE']:\n",
    "            pos_period.append(df.at[i+1, 'CLOSE'])\n",
    "            neg_period.append(0)\n",
    "        else:\n",
    "            pos_period.append(0)\n",
    "            neg_period.append(df.at[i, 'CLOSE'])\n",
    "        i = i + 1\n",
    "        \n",
    "    pos_period = pd.Series(pos_period)\n",
    "    neg_period = pd.Series(neg_period)\n",
    "    \n",
    "    # Apply rolling sum over all of our windows\n",
    "    pos_sum = pd.Series(pos_period.rolling(window).sum())\n",
    "    neg_sum = pd.Series(neg_period.rolling(window).sum())\n",
    "    \n",
    "    # Normalize with window length to ensure that we don't have 0 in the denominator\n",
    "    rs = (window - pos_sum)/(window-neg_sum)\n",
    "    rsi = abs(100 - (100 / (1+rs)))\n",
    "    \n",
    "    return rsi[window:]"
   ]
  },
  {
   "cell_type": "code",
   "execution_count": null,
   "metadata": {},
   "outputs": [],
   "source": []
  },
  {
   "cell_type": "code",
   "execution_count": 46,
   "metadata": {},
   "outputs": [],
   "source": [
    "#set the rolling window to 5\n",
    "feature_window = 5\n",
    "# calculating indexes of two series\n",
    "bitcoin_spot_df['sma'] = sma(bitcoin_spot_df['CLOSE'], feature_window).pct_change()\n",
    "bitcoin_futures_df['sma'] = sma(bitcoin_futures_df['CLOSE'], feature_window).pct_change()\n",
    "\n",
    "bitcoin_spot_df['ewma'] = ewma(bitcoin_spot_df['CLOSE'], feature_window).pct_change()\n",
    "bitcoin_futures_df['ewma'] = ewma(bitcoin_futures_df['CLOSE'], feature_window).pct_change()\n",
    "\n",
    "bitcoin_spot_df['mfi'] = mfi(bitcoin_spot_df, feature_window).pct_change()\n",
    "bitcoin_futures_df['mfi'] = mfi(bitcoin_futures_df, feature_window).pct_change()\n",
    "\n",
    "bitcoin_spot_df['rsi'] = rsi(bitcoin_spot_df, feature_window).pct_change()\n",
    "bitcoin_futures_df['rsi'] = rsi(bitcoin_futures_df, feature_window).pct_change()\n",
    "\n",
    "bitcoin_spot_df['price'] = bitcoin_spot_df['CLOSE'].pct_change()\n",
    "bitcoin_futures_df['price'] = bitcoin_futures_df['CLOSE'].pct_change()\n",
    "\n",
    "# remove NaNs from rolling features\n",
    "btc_spot_df = bitcoin_spot_df[feature_window+1:].reset_index(drop=True)\n",
    "btc_futures_df = bitcoin_futures_df[feature_window+1:].reset_index(drop=True)"
   ]
  },
  {
   "cell_type": "code",
   "execution_count": 55,
   "metadata": {},
   "outputs": [],
   "source": [
    "btc_spot_df.to_csv('/Users/answer/Desktop/paper/DATA/btc_spot_df.csv')\n",
    "btc_futures_df.to_csv('/Users/answer/Desktop/paper/DATA/btc_futures_df.csv')"
   ]
  },
  {
   "cell_type": "code",
   "execution_count": null,
   "metadata": {},
   "outputs": [],
   "source": []
  },
  {
   "cell_type": "code",
   "execution_count": null,
   "metadata": {},
   "outputs": [],
   "source": []
  },
  {
   "cell_type": "code",
   "execution_count": 47,
   "metadata": {},
   "outputs": [],
   "source": [
    "#label data as 1 if the spread change exceeds the threshold\n",
    "def create_label_func(threshold=0.001, window=5):\n",
    "\n",
    "    def create_labels(residuals):\n",
    "        min_value = residuals[::-1].rolling(window=window).min()[::-1]\n",
    "        min_value.iloc[-window:] = residuals.iloc[-window:]\n",
    "\n",
    "        a = (residuals-min_value) > threshold\n",
    "        classes = a.astype(int)\n",
    "        \n",
    "        return classes\n",
    "    \n",
    "    return create_labels"
   ]
  },
  {
   "cell_type": "code",
   "execution_count": 58,
   "metadata": {},
   "outputs": [],
   "source": [
    "#set threshold to 0.0003\n",
    "threshold=0.0003\n",
    "#set the trading window to 5\n",
    "window=5\n",
    "\n",
    "label_func = create_label_func(threshold=threshold, window=window)"
   ]
  },
  {
   "cell_type": "code",
   "execution_count": null,
   "metadata": {},
   "outputs": [],
   "source": []
  },
  {
   "cell_type": "code",
   "execution_count": 59,
   "metadata": {},
   "outputs": [
    {
     "data": {
      "text/plain": [
       "(46784, 18)"
      ]
     },
     "execution_count": 59,
     "metadata": {},
     "output_type": "execute_result"
    }
   ],
   "source": [
    "btc_futures_df.shape"
   ]
  },
  {
   "cell_type": "code",
   "execution_count": 60,
   "metadata": {},
   "outputs": [
    {
     "data": {
      "text/plain": [
       "(46784, 18)"
      ]
     },
     "execution_count": 60,
     "metadata": {},
     "output_type": "execute_result"
    }
   ],
   "source": [
    "btc_spot_df.shape"
   ]
  },
  {
   "cell_type": "code",
   "execution_count": null,
   "metadata": {},
   "outputs": [],
   "source": []
  },
  {
   "cell_type": "code",
   "execution_count": 61,
   "metadata": {},
   "outputs": [],
   "source": [
    "OU_transform = OU(btc_futures_df, btc_spot_df)"
   ]
  },
  {
   "cell_type": "code",
   "execution_count": 62,
   "metadata": {},
   "outputs": [
    {
     "name": "stdout",
     "output_type": "stream",
     "text": [
      "Sliding Window Split Successful.\n"
     ]
    }
   ],
   "source": [
    "OU_transform.split_slide(m_size=2000, e_size=100)"
   ]
  },
  {
   "cell_type": "code",
   "execution_count": 63,
   "metadata": {},
   "outputs": [],
   "source": [
    "import scipy"
   ]
  },
  {
   "cell_type": "code",
   "execution_count": null,
   "metadata": {},
   "outputs": [],
   "source": []
  },
  {
   "cell_type": "code",
   "execution_count": 64,
   "metadata": {},
   "outputs": [],
   "source": [
    "info = OU_transform.get_splits(['price', 'sma', 'ewma', 'mfi', 'rsi'], label_func=label_func, scale=True)"
   ]
  },
  {
   "cell_type": "code",
   "execution_count": 65,
   "metadata": {},
   "outputs": [],
   "source": [
    "save_dir = \"/Users/answer/Desktop/paper/DATA/info.npy\"\n",
    "\n",
    "np.save(save_dir, info)"
   ]
  },
  {
   "cell_type": "code",
   "execution_count": 66,
   "metadata": {},
   "outputs": [
    {
     "name": "stderr",
     "output_type": "stream",
     "text": [
      "/Library/Frameworks/Python.framework/Versions/3.7/lib/python3.7/site-packages/ipykernel_launcher.py:1: VisibleDeprecationWarning: Creating an ndarray from ragged nested sequences (which is a list-or-tuple of lists-or-tuples-or ndarrays with different lengths or shapes) is deprecated. If you meant to do this, you must specify 'dtype=object' when creating the ndarray\n",
      "  \"\"\"Entry point for launching an IPython kernel.\n"
     ]
    },
    {
     "data": {
      "text/plain": [
       "array([33384, 11400])"
      ]
     },
     "execution_count": 66,
     "metadata": {},
     "output_type": "execute_result"
    }
   ],
   "source": [
    "labels = np.hstack(np.array([fold['test']['labels'].values for fold in info]))\n",
    "np.bincount(labels)"
   ]
  },
  {
   "cell_type": "code",
   "execution_count": null,
   "metadata": {},
   "outputs": [],
   "source": []
  },
  {
   "cell_type": "code",
   "execution_count": 67,
   "metadata": {},
   "outputs": [],
   "source": [
    "plot = True"
   ]
  },
  {
   "cell_type": "code",
   "execution_count": 69,
   "metadata": {},
   "outputs": [],
   "source": [
    "#plot the residuals to find a good threshold\n",
    "if plot: \n",
    "    for fold, thing in enumerate(info):\n",
    "        train = thing['train']\n",
    "        test = thing['test']\n",
    "\n",
    "        train_residuals = train['residuals_fit_price']\n",
    "        test_residuals = test['residuals_transform_price']\n",
    "        window=5\n",
    "\n",
    "        min_value_train = train_residuals[::-1].rolling(window=window).min()[::-1]\n",
    "        min_value_test = test_residuals[::-1].rolling(window=window).min()[::-1]\n",
    "\n",
    "        fig = plt.figure(figsize=(8, 6))\n",
    "        ax1 = plt.subplot(1, 2, 1)\n",
    "        ax2 = plt.subplot(1, 2, 2, sharey=ax1)\n",
    "\n",
    "\n",
    "        ax1.boxplot((train_residuals - min_value_train)[:-window])\n",
    "        ax1.set_title('TRAIN')\n",
    "        ax1.axhline(threshold, linestyle='dashed', color='black', alpha=0.7)\n",
    "        ax1.grid()\n",
    "\n",
    "        ax2.boxplot((test_residuals - min_value_test)[:-window])\n",
    "        ax2.set_title('TEST')\n",
    "\n",
    "        ax2.grid()\n",
    "        ax2.axhline(threshold, linestyle='dashed', color='black', alpha=0.7)\n",
    "\n",
    "        plt.suptitle('Fold %d' % fold)\n",
    "        plt.savefig(\"/Users/answer/Desktop/paper/DATA/PLOT/RESIDUAL/fold_residual_%i\" % fold)\n",
    "        plt.close(fig)"
   ]
  },
  {
   "cell_type": "code",
   "execution_count": null,
   "metadata": {},
   "outputs": [],
   "source": []
  },
  {
   "cell_type": "code",
   "execution_count": null,
   "metadata": {},
   "outputs": [],
   "source": []
  },
  {
   "cell_type": "code",
   "execution_count": null,
   "metadata": {},
   "outputs": [],
   "source": []
  },
  {
   "cell_type": "code",
   "execution_count": null,
   "metadata": {},
   "outputs": [],
   "source": []
  },
  {
   "cell_type": "code",
   "execution_count": null,
   "metadata": {},
   "outputs": [],
   "source": []
  },
  {
   "cell_type": "code",
   "execution_count": null,
   "metadata": {},
   "outputs": [],
   "source": []
  },
  {
   "cell_type": "code",
   "execution_count": null,
   "metadata": {},
   "outputs": [],
   "source": []
  },
  {
   "cell_type": "code",
   "execution_count": null,
   "metadata": {},
   "outputs": [],
   "source": []
  },
  {
   "cell_type": "code",
   "execution_count": null,
   "metadata": {},
   "outputs": [],
   "source": []
  },
  {
   "cell_type": "code",
   "execution_count": null,
   "metadata": {},
   "outputs": [],
   "source": []
  },
  {
   "cell_type": "code",
   "execution_count": null,
   "metadata": {},
   "outputs": [],
   "source": []
  },
  {
   "cell_type": "code",
   "execution_count": null,
   "metadata": {},
   "outputs": [],
   "source": []
  },
  {
   "cell_type": "code",
   "execution_count": null,
   "metadata": {},
   "outputs": [],
   "source": []
  },
  {
   "cell_type": "code",
   "execution_count": null,
   "metadata": {},
   "outputs": [],
   "source": []
  },
  {
   "cell_type": "code",
   "execution_count": null,
   "metadata": {},
   "outputs": [],
   "source": []
  },
  {
   "cell_type": "code",
   "execution_count": null,
   "metadata": {},
   "outputs": [],
   "source": []
  },
  {
   "cell_type": "code",
   "execution_count": null,
   "metadata": {},
   "outputs": [],
   "source": []
  },
  {
   "cell_type": "code",
   "execution_count": null,
   "metadata": {},
   "outputs": [],
   "source": []
  },
  {
   "cell_type": "code",
   "execution_count": null,
   "metadata": {},
   "outputs": [],
   "source": []
  },
  {
   "cell_type": "code",
   "execution_count": 89,
   "metadata": {},
   "outputs": [],
   "source": [
    "def indicators(df, feature_window):\n",
    "    df[\"MA\"] = talib.MA(df[\"CLOSE\"], timeperiod = feature_window).pct_change()\n",
    "    df['EMA'] = talib.EMA(df[\"CLOSE\"], timeperiod=feature_window).pct_change()\n",
    "    df['RSI']= talib.RSI(df['CLOSE'], timeperiod = feature_window).pct_change()\n",
    "    df['MFI'] = talib.MFI(df['HIGH'], df['LOW'], df['CLOSE'], df['VOLUME'], timeperiod = feature_window).pct_change()\n",
    "    df['CHANGE_RATE'] = df['CLOSE'].pct_change()\n",
    "    return df"
   ]
  },
  {
   "cell_type": "code",
   "execution_count": 90,
   "metadata": {},
   "outputs": [],
   "source": [
    "btc_futures_df = indicators(bitcoin_futures_df, feature_window)[feature_window:]\n",
    "btc_spot_df = indicators(bitcoin_spot_df, feature_window)[feature_window:]"
   ]
  },
  {
   "cell_type": "code",
   "execution_count": 91,
   "metadata": {},
   "outputs": [
    {
     "data": {
      "text/html": [
       "<div>\n",
       "<style scoped>\n",
       "    .dataframe tbody tr th:only-of-type {\n",
       "        vertical-align: middle;\n",
       "    }\n",
       "\n",
       "    .dataframe tbody tr th {\n",
       "        vertical-align: top;\n",
       "    }\n",
       "\n",
       "    .dataframe thead th {\n",
       "        text-align: right;\n",
       "    }\n",
       "</style>\n",
       "<table border=\"1\" class=\"dataframe\">\n",
       "  <thead>\n",
       "    <tr style=\"text-align: right;\">\n",
       "      <th></th>\n",
       "      <th>TIMESTAMP</th>\n",
       "      <th>TIMESTAMP.1</th>\n",
       "      <th>OPEN</th>\n",
       "      <th>HIGH</th>\n",
       "      <th>LOW</th>\n",
       "      <th>CLOSE</th>\n",
       "      <th>VOLUME</th>\n",
       "      <th>close_time</th>\n",
       "      <th>quote_volume</th>\n",
       "      <th>trades</th>\n",
       "      <th>taker_base_volue</th>\n",
       "      <th>taker_quote_volume</th>\n",
       "      <th>ignore</th>\n",
       "      <th>MA</th>\n",
       "      <th>EMA</th>\n",
       "      <th>RSI</th>\n",
       "      <th>MFI</th>\n",
       "      <th>CHANGE_RATE</th>\n",
       "    </tr>\n",
       "  </thead>\n",
       "  <tbody>\n",
       "    <tr>\n",
       "      <th>59986</th>\n",
       "      <td>2020-08-08 22:16:00</td>\n",
       "      <td>08/08/2020 22:16</td>\n",
       "      <td>11733.09</td>\n",
       "      <td>11733.51</td>\n",
       "      <td>11732.00</td>\n",
       "      <td>11732.74</td>\n",
       "      <td>24.811627</td>\n",
       "      <td>1.596920e+12</td>\n",
       "      <td>291108.3625</td>\n",
       "      <td>401</td>\n",
       "      <td>16.478222</td>\n",
       "      <td>193335.77200</td>\n",
       "      <td>0</td>\n",
       "      <td>0.000119</td>\n",
       "      <td>0.000023</td>\n",
       "      <td>-0.017887</td>\n",
       "      <td>-0.075480</td>\n",
       "      <td>-0.000022</td>\n",
       "    </tr>\n",
       "    <tr>\n",
       "      <th>59987</th>\n",
       "      <td>2020-08-08 22:17:00</td>\n",
       "      <td>08/08/2020 22:17</td>\n",
       "      <td>11732.73</td>\n",
       "      <td>11739.99</td>\n",
       "      <td>11732.73</td>\n",
       "      <td>11738.49</td>\n",
       "      <td>30.190282</td>\n",
       "      <td>1.596920e+12</td>\n",
       "      <td>354355.8473</td>\n",
       "      <td>450</td>\n",
       "      <td>14.426976</td>\n",
       "      <td>169332.32850</td>\n",
       "      <td>0</td>\n",
       "      <td>0.000059</td>\n",
       "      <td>0.000179</td>\n",
       "      <td>0.198539</td>\n",
       "      <td>0.050704</td>\n",
       "      <td>0.000490</td>\n",
       "    </tr>\n",
       "    <tr>\n",
       "      <th>59988</th>\n",
       "      <td>2020-08-08 22:18:00</td>\n",
       "      <td>08/08/2020 22:18</td>\n",
       "      <td>11738.45</td>\n",
       "      <td>11739.36</td>\n",
       "      <td>11736.37</td>\n",
       "      <td>11738.86</td>\n",
       "      <td>9.452045</td>\n",
       "      <td>1.596920e+12</td>\n",
       "      <td>110953.3551</td>\n",
       "      <td>351</td>\n",
       "      <td>5.567218</td>\n",
       "      <td>65351.43837</td>\n",
       "      <td>0</td>\n",
       "      <td>0.000024</td>\n",
       "      <td>0.000130</td>\n",
       "      <td>0.008684</td>\n",
       "      <td>-0.136442</td>\n",
       "      <td>0.000032</td>\n",
       "    </tr>\n",
       "    <tr>\n",
       "      <th>59989</th>\n",
       "      <td>2020-08-08 22:19:00</td>\n",
       "      <td>08/08/2020 22:19</td>\n",
       "      <td>11738.74</td>\n",
       "      <td>11739.81</td>\n",
       "      <td>11736.09</td>\n",
       "      <td>11736.34</td>\n",
       "      <td>12.996434</td>\n",
       "      <td>1.596920e+12</td>\n",
       "      <td>152555.3517</td>\n",
       "      <td>320</td>\n",
       "      <td>5.057146</td>\n",
       "      <td>59362.00922</td>\n",
       "      <td>0</td>\n",
       "      <td>0.000080</td>\n",
       "      <td>0.000015</td>\n",
       "      <td>-0.180799</td>\n",
       "      <td>0.140473</td>\n",
       "      <td>-0.000215</td>\n",
       "    </tr>\n",
       "    <tr>\n",
       "      <th>59990</th>\n",
       "      <td>2020-08-08 22:20:00</td>\n",
       "      <td>08/08/2020 22:20</td>\n",
       "      <td>11736.35</td>\n",
       "      <td>11738.48</td>\n",
       "      <td>11732.13</td>\n",
       "      <td>11735.71</td>\n",
       "      <td>41.039010</td>\n",
       "      <td>1.596920e+12</td>\n",
       "      <td>481607.8189</td>\n",
       "      <td>523</td>\n",
       "      <td>27.731850</td>\n",
       "      <td>325460.89600</td>\n",
       "      <td>0</td>\n",
       "      <td>0.000046</td>\n",
       "      <td>-0.000008</td>\n",
       "      <td>-0.053478</td>\n",
       "      <td>-0.145385</td>\n",
       "      <td>-0.000054</td>\n",
       "    </tr>\n",
       "  </tbody>\n",
       "</table>\n",
       "</div>"
      ],
      "text/plain": [
       "                 TIMESTAMP       TIMESTAMP.1      OPEN      HIGH       LOW  \\\n",
       "59986  2020-08-08 22:16:00  08/08/2020 22:16  11733.09  11733.51  11732.00   \n",
       "59987  2020-08-08 22:17:00  08/08/2020 22:17  11732.73  11739.99  11732.73   \n",
       "59988  2020-08-08 22:18:00  08/08/2020 22:18  11738.45  11739.36  11736.37   \n",
       "59989  2020-08-08 22:19:00  08/08/2020 22:19  11738.74  11739.81  11736.09   \n",
       "59990  2020-08-08 22:20:00  08/08/2020 22:20  11736.35  11738.48  11732.13   \n",
       "\n",
       "          CLOSE     VOLUME    close_time  quote_volume  trades  \\\n",
       "59986  11732.74  24.811627  1.596920e+12   291108.3625     401   \n",
       "59987  11738.49  30.190282  1.596920e+12   354355.8473     450   \n",
       "59988  11738.86   9.452045  1.596920e+12   110953.3551     351   \n",
       "59989  11736.34  12.996434  1.596920e+12   152555.3517     320   \n",
       "59990  11735.71  41.039010  1.596920e+12   481607.8189     523   \n",
       "\n",
       "       taker_base_volue  taker_quote_volume  ignore        MA       EMA  \\\n",
       "59986         16.478222        193335.77200       0  0.000119  0.000023   \n",
       "59987         14.426976        169332.32850       0  0.000059  0.000179   \n",
       "59988          5.567218         65351.43837       0  0.000024  0.000130   \n",
       "59989          5.057146         59362.00922       0  0.000080  0.000015   \n",
       "59990         27.731850        325460.89600       0  0.000046 -0.000008   \n",
       "\n",
       "            RSI       MFI  CHANGE_RATE  \n",
       "59986 -0.017887 -0.075480    -0.000022  \n",
       "59987  0.198539  0.050704     0.000490  \n",
       "59988  0.008684 -0.136442     0.000032  \n",
       "59989 -0.180799  0.140473    -0.000215  \n",
       "59990 -0.053478 -0.145385    -0.000054  "
      ]
     },
     "execution_count": 91,
     "metadata": {},
     "output_type": "execute_result"
    }
   ],
   "source": [
    "btc_spot_df.tail()"
   ]
  },
  {
   "cell_type": "code",
   "execution_count": 92,
   "metadata": {},
   "outputs": [],
   "source": [
    "btc_spot_df.to_csv('/Users/answer/Desktop/paper/DATA/btc_spot_df.csv')\n",
    "btc_futures_df.to_csv('/Users/answer/Desktop/paper/DATA/btc_futures_df.csv')"
   ]
  },
  {
   "cell_type": "code",
   "execution_count": null,
   "metadata": {},
   "outputs": [],
   "source": []
  },
  {
   "cell_type": "code",
   "execution_count": 93,
   "metadata": {},
   "outputs": [],
   "source": [
    "def label(threshold=0.001, window=5):\n",
    "    \"\"\"\n",
    "    Given the spreads of residuals between our pair, label as 1 if the spread change exceeds \n",
    "    the threshold, and 0 otherwise. \n",
    "    \n",
    "    :residuals: spreads between the residuals of the pair\n",
    "    :window: how far in the future in minutes we want to evaluate our position on\n",
    "    :threshold: the percent change threshold that determines whether a trade is profitable or not. \n",
    "    \n",
    "    :ret: list of labels of 1 or -1.\n",
    "    \"\"\"\n",
    "    def create_labels(residuals):\n",
    "        min_val = residuals[::-1].rolling(window=window).min()[::-1]\n",
    "        min_val.iloc[-window:] = residuals.iloc[-window:]\n",
    "\n",
    "        a = (residuals-min_val) > threshold\n",
    "        labels = a.astype(int)\n",
    "        \n",
    "        return labels\n",
    "    \n",
    "    return create_labels"
   ]
  },
  {
   "cell_type": "code",
   "execution_count": 94,
   "metadata": {},
   "outputs": [],
   "source": [
    "threshold=0.0005\n",
    "window=5\n",
    "\n",
    "label_func = label(threshold=threshold, window=window)"
   ]
  },
  {
   "cell_type": "code",
   "execution_count": 95,
   "metadata": {},
   "outputs": [],
   "source": [
    "OU_BTC = OU(btc_futures_df, btc_spot_df)"
   ]
  },
  {
   "cell_type": "code",
   "execution_count": 96,
   "metadata": {},
   "outputs": [
    {
     "name": "stdout",
     "output_type": "stream",
     "text": [
      "Sliding Window Split Successful.\n"
     ]
    }
   ],
   "source": [
    "OU_BTC.split_slide(m_size=2000, e_size=100)"
   ]
  },
  {
   "cell_type": "code",
   "execution_count": 97,
   "metadata": {},
   "outputs": [
    {
     "ename": "KeyError",
     "evalue": "'Passing list-likes to .loc or [] with any missing labels is no longer supported, see https://pandas.pydata.org/pandas-docs/stable/user_guide/indexing.html#deprecate-loc-reindex-listlike'",
     "output_type": "error",
     "traceback": [
      "\u001b[0;31m---------------------------------------------------------------------------\u001b[0m",
      "\u001b[0;31mKeyError\u001b[0m                                  Traceback (most recent call last)",
      "\u001b[0;32m<ipython-input-97-e3263aaf5419>\u001b[0m in \u001b[0;36m<module>\u001b[0;34m\u001b[0m\n\u001b[0;32m----> 1\u001b[0;31m \u001b[0mlabels\u001b[0m \u001b[0;34m=\u001b[0m \u001b[0mOU_BTC\u001b[0m\u001b[0;34m.\u001b[0m\u001b[0mget_splits\u001b[0m\u001b[0;34m(\u001b[0m\u001b[0;34m[\u001b[0m\u001b[0;34m'RSI'\u001b[0m\u001b[0;34m]\u001b[0m\u001b[0;34m,\u001b[0m \u001b[0mlabel_func\u001b[0m\u001b[0;34m=\u001b[0m\u001b[0mlabel_func\u001b[0m\u001b[0;34m,\u001b[0m \u001b[0mscale\u001b[0m\u001b[0;34m=\u001b[0m\u001b[0;32mTrue\u001b[0m\u001b[0;34m)\u001b[0m\u001b[0;34m\u001b[0m\u001b[0;34m\u001b[0m\u001b[0m\n\u001b[0m",
      "\u001b[0;32m~/Desktop/paper/CODE/OU.py\u001b[0m in \u001b[0;36mget_splits\u001b[0;34m(self, ou_features, other_features, label_func, scale)\u001b[0m\n\u001b[1;32m    234\u001b[0m         \u001b[0;31m# Fit-Transform the train and test datasets for each of the splits.\u001b[0m\u001b[0;34m\u001b[0m\u001b[0;34m\u001b[0m\u001b[0;34m\u001b[0m\u001b[0m\n\u001b[1;32m    235\u001b[0m         \u001b[0;32mfor\u001b[0m \u001b[0mtrain\u001b[0m\u001b[0;34m,\u001b[0m \u001b[0mtest\u001b[0m \u001b[0;32min\u001b[0m \u001b[0mself\u001b[0m\u001b[0;34m.\u001b[0m\u001b[0msplit_idx\u001b[0m\u001b[0;34m:\u001b[0m\u001b[0;34m\u001b[0m\u001b[0;34m\u001b[0m\u001b[0m\n\u001b[0;32m--> 236\u001b[0;31m             \u001b[0mdf_train1\u001b[0m \u001b[0;34m=\u001b[0m \u001b[0mself\u001b[0m\u001b[0;34m.\u001b[0m\u001b[0mdf1\u001b[0m\u001b[0;34m.\u001b[0m\u001b[0mloc\u001b[0m\u001b[0;34m[\u001b[0m\u001b[0mtrain\u001b[0m\u001b[0;34m]\u001b[0m\u001b[0;34m\u001b[0m\u001b[0;34m\u001b[0m\u001b[0m\n\u001b[0m\u001b[1;32m    237\u001b[0m             \u001b[0mdf_train2\u001b[0m \u001b[0;34m=\u001b[0m \u001b[0mself\u001b[0m\u001b[0;34m.\u001b[0m\u001b[0mdf2\u001b[0m\u001b[0;34m.\u001b[0m\u001b[0mloc\u001b[0m\u001b[0;34m[\u001b[0m\u001b[0mtrain\u001b[0m\u001b[0;34m]\u001b[0m\u001b[0;34m\u001b[0m\u001b[0;34m\u001b[0m\u001b[0m\n\u001b[1;32m    238\u001b[0m             \u001b[0mdf_test1\u001b[0m \u001b[0;34m=\u001b[0m \u001b[0mself\u001b[0m\u001b[0;34m.\u001b[0m\u001b[0mdf1\u001b[0m\u001b[0;34m.\u001b[0m\u001b[0mloc\u001b[0m\u001b[0;34m[\u001b[0m\u001b[0mtest\u001b[0m\u001b[0;34m]\u001b[0m\u001b[0;34m\u001b[0m\u001b[0;34m\u001b[0m\u001b[0m\n",
      "\u001b[0;32m/Library/Frameworks/Python.framework/Versions/3.7/lib/python3.7/site-packages/pandas/core/indexing.py\u001b[0m in \u001b[0;36m__getitem__\u001b[0;34m(self, key)\u001b[0m\n\u001b[1;32m   1766\u001b[0m \u001b[0;34m\u001b[0m\u001b[0m\n\u001b[1;32m   1767\u001b[0m             \u001b[0mmaybe_callable\u001b[0m \u001b[0;34m=\u001b[0m \u001b[0mcom\u001b[0m\u001b[0;34m.\u001b[0m\u001b[0mapply_if_callable\u001b[0m\u001b[0;34m(\u001b[0m\u001b[0mkey\u001b[0m\u001b[0;34m,\u001b[0m \u001b[0mself\u001b[0m\u001b[0;34m.\u001b[0m\u001b[0mobj\u001b[0m\u001b[0;34m)\u001b[0m\u001b[0;34m\u001b[0m\u001b[0;34m\u001b[0m\u001b[0m\n\u001b[0;32m-> 1768\u001b[0;31m             \u001b[0;32mreturn\u001b[0m \u001b[0mself\u001b[0m\u001b[0;34m.\u001b[0m\u001b[0m_getitem_axis\u001b[0m\u001b[0;34m(\u001b[0m\u001b[0mmaybe_callable\u001b[0m\u001b[0;34m,\u001b[0m \u001b[0maxis\u001b[0m\u001b[0;34m=\u001b[0m\u001b[0maxis\u001b[0m\u001b[0;34m)\u001b[0m\u001b[0;34m\u001b[0m\u001b[0;34m\u001b[0m\u001b[0m\n\u001b[0m\u001b[1;32m   1769\u001b[0m \u001b[0;34m\u001b[0m\u001b[0m\n\u001b[1;32m   1770\u001b[0m     \u001b[0;32mdef\u001b[0m \u001b[0m_is_scalar_access\u001b[0m\u001b[0;34m(\u001b[0m\u001b[0mself\u001b[0m\u001b[0;34m,\u001b[0m \u001b[0mkey\u001b[0m\u001b[0;34m:\u001b[0m \u001b[0mTuple\u001b[0m\u001b[0;34m)\u001b[0m\u001b[0;34m:\u001b[0m\u001b[0;34m\u001b[0m\u001b[0;34m\u001b[0m\u001b[0m\n",
      "\u001b[0;32m/Library/Frameworks/Python.framework/Versions/3.7/lib/python3.7/site-packages/pandas/core/indexing.py\u001b[0m in \u001b[0;36m_getitem_axis\u001b[0;34m(self, key, axis)\u001b[0m\n\u001b[1;32m   1952\u001b[0m                     \u001b[0;32mraise\u001b[0m \u001b[0mValueError\u001b[0m\u001b[0;34m(\u001b[0m\u001b[0;34m\"Cannot index with multidimensional key\"\u001b[0m\u001b[0;34m)\u001b[0m\u001b[0;34m\u001b[0m\u001b[0;34m\u001b[0m\u001b[0m\n\u001b[1;32m   1953\u001b[0m \u001b[0;34m\u001b[0m\u001b[0m\n\u001b[0;32m-> 1954\u001b[0;31m                 \u001b[0;32mreturn\u001b[0m \u001b[0mself\u001b[0m\u001b[0;34m.\u001b[0m\u001b[0m_getitem_iterable\u001b[0m\u001b[0;34m(\u001b[0m\u001b[0mkey\u001b[0m\u001b[0;34m,\u001b[0m \u001b[0maxis\u001b[0m\u001b[0;34m=\u001b[0m\u001b[0maxis\u001b[0m\u001b[0;34m)\u001b[0m\u001b[0;34m\u001b[0m\u001b[0;34m\u001b[0m\u001b[0m\n\u001b[0m\u001b[1;32m   1955\u001b[0m \u001b[0;34m\u001b[0m\u001b[0m\n\u001b[1;32m   1956\u001b[0m             \u001b[0;31m# nested tuple slicing\u001b[0m\u001b[0;34m\u001b[0m\u001b[0;34m\u001b[0m\u001b[0;34m\u001b[0m\u001b[0m\n",
      "\u001b[0;32m/Library/Frameworks/Python.framework/Versions/3.7/lib/python3.7/site-packages/pandas/core/indexing.py\u001b[0m in \u001b[0;36m_getitem_iterable\u001b[0;34m(self, key, axis)\u001b[0m\n\u001b[1;32m   1593\u001b[0m         \u001b[0;32melse\u001b[0m\u001b[0;34m:\u001b[0m\u001b[0;34m\u001b[0m\u001b[0;34m\u001b[0m\u001b[0m\n\u001b[1;32m   1594\u001b[0m             \u001b[0;31m# A collection of keys\u001b[0m\u001b[0;34m\u001b[0m\u001b[0;34m\u001b[0m\u001b[0;34m\u001b[0m\u001b[0m\n\u001b[0;32m-> 1595\u001b[0;31m             \u001b[0mkeyarr\u001b[0m\u001b[0;34m,\u001b[0m \u001b[0mindexer\u001b[0m \u001b[0;34m=\u001b[0m \u001b[0mself\u001b[0m\u001b[0;34m.\u001b[0m\u001b[0m_get_listlike_indexer\u001b[0m\u001b[0;34m(\u001b[0m\u001b[0mkey\u001b[0m\u001b[0;34m,\u001b[0m \u001b[0maxis\u001b[0m\u001b[0;34m,\u001b[0m \u001b[0mraise_missing\u001b[0m\u001b[0;34m=\u001b[0m\u001b[0;32mFalse\u001b[0m\u001b[0;34m)\u001b[0m\u001b[0;34m\u001b[0m\u001b[0;34m\u001b[0m\u001b[0m\n\u001b[0m\u001b[1;32m   1596\u001b[0m             return self.obj._reindex_with_indexers(\n\u001b[1;32m   1597\u001b[0m                 \u001b[0;34m{\u001b[0m\u001b[0maxis\u001b[0m\u001b[0;34m:\u001b[0m \u001b[0;34m[\u001b[0m\u001b[0mkeyarr\u001b[0m\u001b[0;34m,\u001b[0m \u001b[0mindexer\u001b[0m\u001b[0;34m]\u001b[0m\u001b[0;34m}\u001b[0m\u001b[0;34m,\u001b[0m \u001b[0mcopy\u001b[0m\u001b[0;34m=\u001b[0m\u001b[0;32mTrue\u001b[0m\u001b[0;34m,\u001b[0m \u001b[0mallow_dups\u001b[0m\u001b[0;34m=\u001b[0m\u001b[0;32mTrue\u001b[0m\u001b[0;34m\u001b[0m\u001b[0;34m\u001b[0m\u001b[0m\n",
      "\u001b[0;32m/Library/Frameworks/Python.framework/Versions/3.7/lib/python3.7/site-packages/pandas/core/indexing.py\u001b[0m in \u001b[0;36m_get_listlike_indexer\u001b[0;34m(self, key, axis, raise_missing)\u001b[0m\n\u001b[1;32m   1551\u001b[0m \u001b[0;34m\u001b[0m\u001b[0m\n\u001b[1;32m   1552\u001b[0m         self._validate_read_indexer(\n\u001b[0;32m-> 1553\u001b[0;31m             \u001b[0mkeyarr\u001b[0m\u001b[0;34m,\u001b[0m \u001b[0mindexer\u001b[0m\u001b[0;34m,\u001b[0m \u001b[0mo\u001b[0m\u001b[0;34m.\u001b[0m\u001b[0m_get_axis_number\u001b[0m\u001b[0;34m(\u001b[0m\u001b[0maxis\u001b[0m\u001b[0;34m)\u001b[0m\u001b[0;34m,\u001b[0m \u001b[0mraise_missing\u001b[0m\u001b[0;34m=\u001b[0m\u001b[0mraise_missing\u001b[0m\u001b[0;34m\u001b[0m\u001b[0;34m\u001b[0m\u001b[0m\n\u001b[0m\u001b[1;32m   1554\u001b[0m         )\n\u001b[1;32m   1555\u001b[0m         \u001b[0;32mreturn\u001b[0m \u001b[0mkeyarr\u001b[0m\u001b[0;34m,\u001b[0m \u001b[0mindexer\u001b[0m\u001b[0;34m\u001b[0m\u001b[0;34m\u001b[0m\u001b[0m\n",
      "\u001b[0;32m/Library/Frameworks/Python.framework/Versions/3.7/lib/python3.7/site-packages/pandas/core/indexing.py\u001b[0m in \u001b[0;36m_validate_read_indexer\u001b[0;34m(self, key, indexer, axis, raise_missing)\u001b[0m\n\u001b[1;32m   1653\u001b[0m             \u001b[0;32mif\u001b[0m \u001b[0;32mnot\u001b[0m \u001b[0;34m(\u001b[0m\u001b[0max\u001b[0m\u001b[0;34m.\u001b[0m\u001b[0mis_categorical\u001b[0m\u001b[0;34m(\u001b[0m\u001b[0;34m)\u001b[0m \u001b[0;32mor\u001b[0m \u001b[0max\u001b[0m\u001b[0;34m.\u001b[0m\u001b[0mis_interval\u001b[0m\u001b[0;34m(\u001b[0m\u001b[0;34m)\u001b[0m\u001b[0;34m)\u001b[0m\u001b[0;34m:\u001b[0m\u001b[0;34m\u001b[0m\u001b[0;34m\u001b[0m\u001b[0m\n\u001b[1;32m   1654\u001b[0m                 raise KeyError(\n\u001b[0;32m-> 1655\u001b[0;31m                     \u001b[0;34m\"Passing list-likes to .loc or [] with any missing labels \"\u001b[0m\u001b[0;34m\u001b[0m\u001b[0;34m\u001b[0m\u001b[0m\n\u001b[0m\u001b[1;32m   1656\u001b[0m                     \u001b[0;34m\"is no longer supported, see \"\u001b[0m\u001b[0;34m\u001b[0m\u001b[0;34m\u001b[0m\u001b[0m\n\u001b[1;32m   1657\u001b[0m                     \u001b[0;34m\"https://pandas.pydata.org/pandas-docs/stable/user_guide/indexing.html#deprecate-loc-reindex-listlike\"\u001b[0m  \u001b[0;31m# noqa:E501\u001b[0m\u001b[0;34m\u001b[0m\u001b[0;34m\u001b[0m\u001b[0m\n",
      "\u001b[0;31mKeyError\u001b[0m: 'Passing list-likes to .loc or [] with any missing labels is no longer supported, see https://pandas.pydata.org/pandas-docs/stable/user_guide/indexing.html#deprecate-loc-reindex-listlike'"
     ]
    }
   ],
   "source": [
    "labels = OU_BTC.get_splits(['RSI'], label_func=label_func, scale=True)"
   ]
  },
  {
   "cell_type": "code",
   "execution_count": null,
   "metadata": {},
   "outputs": [],
   "source": []
  },
  {
   "cell_type": "code",
   "execution_count": null,
   "metadata": {},
   "outputs": [],
   "source": []
  },
  {
   "cell_type": "code",
   "execution_count": null,
   "metadata": {},
   "outputs": [],
   "source": []
  },
  {
   "cell_type": "code",
   "execution_count": null,
   "metadata": {},
   "outputs": [],
   "source": []
  }
 ],
 "metadata": {
  "kernelspec": {
   "display_name": "Python 3",
   "language": "python",
   "name": "python3"
  },
  "language_info": {
   "codemirror_mode": {
    "name": "ipython",
    "version": 3
   },
   "file_extension": ".py",
   "mimetype": "text/x-python",
   "name": "python",
   "nbconvert_exporter": "python",
   "pygments_lexer": "ipython3",
   "version": "3.7.8"
  }
 },
 "nbformat": 4,
 "nbformat_minor": 4
}
